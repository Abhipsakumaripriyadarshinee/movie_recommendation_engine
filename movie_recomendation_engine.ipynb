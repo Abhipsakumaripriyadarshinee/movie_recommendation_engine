{
  "nbformat": 4,
  "nbformat_minor": 0,
  "metadata": {
    "colab": {
      "name": "movie_recomendation_engine.ipynb",
      "provenance": [],
      "authorship_tag": "ABX9TyP2u58S4f/kFbPD5aYI2WqD",
      "include_colab_link": true
    },
    "kernelspec": {
      "name": "python3",
      "display_name": "Python 3"
    },
    "language_info": {
      "name": "python"
    }
  },
  "cells": [
    {
      "cell_type": "markdown",
      "metadata": {
        "id": "view-in-github",
        "colab_type": "text"
      },
      "source": [
        "<a href=\"https://colab.research.google.com/github/Abhipsakumaripriyadarshinee/movie_recommendation_engine/blob/main/movie_recomendation_engine.ipynb\" target=\"_parent\"><img src=\"https://colab.research.google.com/assets/colab-badge.svg\" alt=\"Open In Colab\"/></a>"
      ]
    },
    {
      "cell_type": "code",
      "metadata": {
        "id": "XG-GPTnOcS2G"
      },
      "source": [
        "import pandas as pd"
      ],
      "execution_count": 98,
      "outputs": []
    },
    {
      "cell_type": "code",
      "metadata": {
        "id": "_KfkIyfUcbjh"
      },
      "source": [
        "import numpy as np"
      ],
      "execution_count": 99,
      "outputs": []
    },
    {
      "cell_type": "code",
      "metadata": {
        "id": "ZalA-CYQcj4f"
      },
      "source": [
        "from sklearn.feature_extraction.text import CountVectorizer"
      ],
      "execution_count": 100,
      "outputs": []
    },
    {
      "cell_type": "code",
      "metadata": {
        "id": "n-uMyZ6Gcoxt"
      },
      "source": [
        "from sklearn.metrics.pairwise import cosine_similarity"
      ],
      "execution_count": 101,
      "outputs": []
    },
    {
      "cell_type": "code",
      "metadata": {
        "id": "CmOyKNlJiPLM"
      },
      "source": [
        "df = pd.read_csv(\"https://raw.githubusercontent.com/codeheroku/Introduction-to-Machine-Learning/master/Building%20a%20Movie%20Recommendation%20Engine/movie_dataset.csv\")"
      ],
      "execution_count": 102,
      "outputs": []
    },
    {
      "cell_type": "code",
      "metadata": {
        "id": "v_t3a2uciUHJ"
      },
      "source": [
        "#print(df.columns)"
      ],
      "execution_count": 103,
      "outputs": []
    },
    {
      "cell_type": "code",
      "metadata": {
        "id": "Cut5eGsAjuck"
      },
      "source": [
        "features = ['keywords','cast','genres','director']"
      ],
      "execution_count": 104,
      "outputs": []
    },
    {
      "cell_type": "code",
      "metadata": {
        "id": "EfcgPI6ZmpOA"
      },
      "source": [
        "for feature in features:\n",
        "    df[feature] = df[feature].fillna('')"
      ],
      "execution_count": 105,
      "outputs": []
    },
    {
      "cell_type": "code",
      "metadata": {
        "id": "ne-WEWyRkBPM"
      },
      "source": [
        "def combine_features(row):\n",
        "    try:\n",
        "        return row['keywords'] +\" \"+row['cast']+\" \"+row[\"genres\"]+\" \"+row[\"director\"]\n",
        "    except:\n",
        "        print(\"Error:\", row)"
      ],
      "execution_count": 106,
      "outputs": []
    },
    {
      "cell_type": "code",
      "metadata": {
        "id": "Gc8DK-qBlYRu"
      },
      "source": [
        "df[\"combined_features\"] = df.apply(combine_features,axis=1)"
      ],
      "execution_count": 107,
      "outputs": []
    },
    {
      "cell_type": "code",
      "metadata": {
        "colab": {
          "base_uri": "https://localhost:8080/",
          "height": 69
        },
        "id": "M5NJEobPzKR6",
        "outputId": "32971ab2-8f99-43e3-b295-d6105f8e26c5"
      },
      "source": [
        "df.iloc[0].combined_features"
      ],
      "execution_count": 108,
      "outputs": [
        {
          "output_type": "execute_result",
          "data": {
            "application/vnd.google.colaboratory.intrinsic+json": {
              "type": "string"
            },
            "text/plain": [
              "'culture clash future space war space colony society Sam Worthington Zoe Saldana Sigourney Weaver Stephen Lang Michelle Rodriguez Action Adventure Fantasy Science Fiction James Cameron'"
            ]
          },
          "metadata": {
            "tags": []
          },
          "execution_count": 108
        }
      ]
    },
    {
      "cell_type": "code",
      "metadata": {
        "colab": {
          "base_uri": "https://localhost:8080/"
        },
        "id": "3nTPsiFvlnYo",
        "outputId": "b9a22257-43d5-42c4-ac7f-f396239a360b"
      },
      "source": [
        "print(\"Combined Features:\", df[\"combined_features\"].head())"
      ],
      "execution_count": 109,
      "outputs": [
        {
          "output_type": "stream",
          "text": [
            "Combined Features: 0    culture clash future space war space colony so...\n",
            "1    ocean drug abuse exotic island east india trad...\n",
            "2    spy based on novel secret agent sequel mi6 Dan...\n",
            "3    dc comics crime fighter terrorist secret ident...\n",
            "4    based on novel mars medallion space travel pri...\n",
            "Name: combined_features, dtype: object\n"
          ],
          "name": "stdout"
        }
      ]
    },
    {
      "cell_type": "code",
      "metadata": {
        "id": "WAeH5gowowhR"
      },
      "source": [
        "cv = CountVectorizer()"
      ],
      "execution_count": 110,
      "outputs": []
    },
    {
      "cell_type": "code",
      "metadata": {
        "id": "JcCapwRVo3Hv"
      },
      "source": [
        "count_matrix = cv.fit_transform(df[\"combined_features\"])"
      ],
      "execution_count": 111,
      "outputs": []
    },
    {
      "cell_type": "code",
      "metadata": {
        "id": "C_n7sUbapg4M"
      },
      "source": [
        "cosine_sim = cosine_similarity(count_matrix)"
      ],
      "execution_count": 112,
      "outputs": []
    },
    {
      "cell_type": "code",
      "metadata": {
        "id": "2U-uqIQFzk1k"
      },
      "source": [
        "def get_title_from_index(index):\n",
        "    return df[df.index == index][\"title\"].values[0]"
      ],
      "execution_count": 113,
      "outputs": []
    },
    {
      "cell_type": "code",
      "metadata": {
        "id": "3WjXZtNk0Nb6"
      },
      "source": [
        "def get_index_from_title(title):\n",
        "    return df[df.title == title][\"index\"].values[0]"
      ],
      "execution_count": 114,
      "outputs": []
    },
    {
      "cell_type": "code",
      "metadata": {
        "id": "baRXcGDLk3Or"
      },
      "source": [
        "movie_user_likes = \"Avatar\"\n",
        "movie_index = get_index_from_title(movie_user_likes)\n",
        "similar_movies = list(enumerate(cosine_sim[movie_index]))"
      ],
      "execution_count": 115,
      "outputs": []
    },
    {
      "cell_type": "code",
      "metadata": {
        "id": "Qxh2ZVAD00WK"
      },
      "source": [
        "sorted_similar_movies = sorted(similar_movies,key=lambda x:x[1],reverse=True)[1:]"
      ],
      "execution_count": 116,
      "outputs": []
    },
    {
      "cell_type": "code",
      "metadata": {
        "colab": {
          "base_uri": "https://localhost:8080/"
        },
        "id": "DyV1aDSe08Nf",
        "outputId": "dc68e407-2309-4084-c68e-9cacb4a735de"
      },
      "source": [
        "i=0\n",
        "print(\"Top 5 similar movies to \"+movie_user_likes+\" are:\\n\")\n",
        "for element in sorted_similar_movies:\n",
        "    print(get_title_from_index(element[0]))\n",
        "    i=i+1\n",
        "    if i>5:\n",
        "        break"
      ],
      "execution_count": 117,
      "outputs": [
        {
          "output_type": "stream",
          "text": [
            "Top 5 similar movies to Avatar are:\n",
            "\n",
            "Guardians of the Galaxy\n",
            "Aliens\n",
            "Star Wars: Clone Wars: Volume 1\n",
            "Star Trek Into Darkness\n",
            "Star Trek Beyond\n",
            "Alien\n"
          ],
          "name": "stdout"
        }
      ]
    }
  ]
}